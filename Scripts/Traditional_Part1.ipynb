{
 "cells": [
  {
   "cell_type": "code",
   "execution_count": 244,
   "metadata": {},
   "outputs": [],
   "source": [
    "import numpy as np\n",
    "import pandas as pd\n",
    "\n",
    "from scipy import stats\n",
    "import matplotlib.pyplot as plt\n",
    "import statsmodels.api as sm\n",
    "\n",
    "from statsmodels.graphics.api import qqplot"
   ]
  },
  {
   "cell_type": "code",
   "execution_count": 245,
   "metadata": {},
   "outputs": [],
   "source": [
    "#pip install PyPortfolioOpt"
   ]
  },
  {
   "cell_type": "code",
   "execution_count": 246,
   "metadata": {},
   "outputs": [],
   "source": [
    "from pypfopt import EfficientFrontier\n",
    "from pypfopt import risk_models\n",
    "from pypfopt import expected_returns"
   ]
  },
  {
   "cell_type": "code",
   "execution_count": 247,
   "metadata": {},
   "outputs": [],
   "source": [
    "df = pd.read_csv(\"dt_2001_clean.csv\", parse_dates=True, index_col=\"Date\")"
   ]
  },
  {
   "cell_type": "code",
   "execution_count": 248,
   "metadata": {
    "scrolled": true
   },
   "outputs": [
    {
     "data": {
      "text/html": [
       "<div>\n",
       "<style scoped>\n",
       "    .dataframe tbody tr th:only-of-type {\n",
       "        vertical-align: middle;\n",
       "    }\n",
       "\n",
       "    .dataframe tbody tr th {\n",
       "        vertical-align: top;\n",
       "    }\n",
       "\n",
       "    .dataframe thead th {\n",
       "        text-align: right;\n",
       "    }\n",
       "</style>\n",
       "<table border=\"1\" class=\"dataframe\">\n",
       "  <thead>\n",
       "    <tr style=\"text-align: right;\">\n",
       "      <th></th>\n",
       "      <th>BCOMTR</th>\n",
       "      <th>LBUSTRUU</th>\n",
       "      <th>LC07TRUU</th>\n",
       "      <th>LD01TRUU</th>\n",
       "      <th>LG30TRUU</th>\n",
       "      <th>LMBITR</th>\n",
       "      <th>LT01TRUU</th>\n",
       "      <th>LUICTRUU</th>\n",
       "      <th>LULCTRUU</th>\n",
       "      <th>M1CXBRU</th>\n",
       "      <th>...</th>\n",
       "      <th>S5ENRS</th>\n",
       "      <th>S5FINL</th>\n",
       "      <th>S5HLTH</th>\n",
       "      <th>S5INDU</th>\n",
       "      <th>S5INFT</th>\n",
       "      <th>S5MATR</th>\n",
       "      <th>S5TELS</th>\n",
       "      <th>S5UTIL</th>\n",
       "      <th>SPX</th>\n",
       "      <th>SPXT</th>\n",
       "    </tr>\n",
       "    <tr>\n",
       "      <th>Date</th>\n",
       "      <th></th>\n",
       "      <th></th>\n",
       "      <th></th>\n",
       "      <th></th>\n",
       "      <th></th>\n",
       "      <th></th>\n",
       "      <th></th>\n",
       "      <th></th>\n",
       "      <th></th>\n",
       "      <th></th>\n",
       "      <th></th>\n",
       "      <th></th>\n",
       "      <th></th>\n",
       "      <th></th>\n",
       "      <th></th>\n",
       "      <th></th>\n",
       "      <th></th>\n",
       "      <th></th>\n",
       "      <th></th>\n",
       "      <th></th>\n",
       "      <th></th>\n",
       "    </tr>\n",
       "  </thead>\n",
       "  <tbody>\n",
       "    <tr>\n",
       "      <td>2001-01-02</td>\n",
       "      <td>179.9320</td>\n",
       "      <td>938.84</td>\n",
       "      <td>237.3865</td>\n",
       "      <td>843.80</td>\n",
       "      <td>311.1466</td>\n",
       "      <td>532.6040</td>\n",
       "      <td>167.09</td>\n",
       "      <td>1143.67</td>\n",
       "      <td>1169.96</td>\n",
       "      <td>532.60</td>\n",
       "      <td>...</td>\n",
       "      <td>245.14</td>\n",
       "      <td>386.05</td>\n",
       "      <td>434.87</td>\n",
       "      <td>270.83</td>\n",
       "      <td>444.92</td>\n",
       "      <td>128.66</td>\n",
       "      <td>199.72</td>\n",
       "      <td>208.30</td>\n",
       "      <td>1283.27</td>\n",
       "      <td>1785.86</td>\n",
       "    </tr>\n",
       "    <tr>\n",
       "      <td>2001-01-03</td>\n",
       "      <td>180.0490</td>\n",
       "      <td>933.62</td>\n",
       "      <td>236.1805</td>\n",
       "      <td>842.59</td>\n",
       "      <td>311.6739</td>\n",
       "      <td>533.3132</td>\n",
       "      <td>166.89</td>\n",
       "      <td>1137.28</td>\n",
       "      <td>1160.99</td>\n",
       "      <td>528.24</td>\n",
       "      <td>...</td>\n",
       "      <td>236.32</td>\n",
       "      <td>405.71</td>\n",
       "      <td>418.89</td>\n",
       "      <td>284.70</td>\n",
       "      <td>522.52</td>\n",
       "      <td>130.16</td>\n",
       "      <td>214.58</td>\n",
       "      <td>197.63</td>\n",
       "      <td>1347.56</td>\n",
       "      <td>1875.56</td>\n",
       "    </tr>\n",
       "    <tr>\n",
       "      <td>2001-01-04</td>\n",
       "      <td>182.9210</td>\n",
       "      <td>938.37</td>\n",
       "      <td>237.3955</td>\n",
       "      <td>844.64</td>\n",
       "      <td>313.6097</td>\n",
       "      <td>534.5750</td>\n",
       "      <td>167.39</td>\n",
       "      <td>1143.70</td>\n",
       "      <td>1170.49</td>\n",
       "      <td>533.03</td>\n",
       "      <td>...</td>\n",
       "      <td>230.27</td>\n",
       "      <td>400.85</td>\n",
       "      <td>399.21</td>\n",
       "      <td>284.72</td>\n",
       "      <td>522.95</td>\n",
       "      <td>133.69</td>\n",
       "      <td>221.29</td>\n",
       "      <td>185.10</td>\n",
       "      <td>1333.34</td>\n",
       "      <td>1855.82</td>\n",
       "    </tr>\n",
       "    <tr>\n",
       "      <td>2001-01-05</td>\n",
       "      <td>183.8650</td>\n",
       "      <td>943.45</td>\n",
       "      <td>238.6471</td>\n",
       "      <td>847.90</td>\n",
       "      <td>314.7569</td>\n",
       "      <td>536.4280</td>\n",
       "      <td>167.94</td>\n",
       "      <td>1150.60</td>\n",
       "      <td>1182.50</td>\n",
       "      <td>534.27</td>\n",
       "      <td>...</td>\n",
       "      <td>233.17</td>\n",
       "      <td>390.24</td>\n",
       "      <td>397.80</td>\n",
       "      <td>279.87</td>\n",
       "      <td>488.23</td>\n",
       "      <td>130.63</td>\n",
       "      <td>214.33</td>\n",
       "      <td>186.16</td>\n",
       "      <td>1298.35</td>\n",
       "      <td>1807.13</td>\n",
       "    </tr>\n",
       "    <tr>\n",
       "      <td>2001-01-08</td>\n",
       "      <td>185.2920</td>\n",
       "      <td>944.95</td>\n",
       "      <td>239.0361</td>\n",
       "      <td>849.18</td>\n",
       "      <td>315.0516</td>\n",
       "      <td>538.1271</td>\n",
       "      <td>168.18</td>\n",
       "      <td>1153.51</td>\n",
       "      <td>1186.26</td>\n",
       "      <td>531.49</td>\n",
       "      <td>...</td>\n",
       "      <td>232.75</td>\n",
       "      <td>388.45</td>\n",
       "      <td>397.48</td>\n",
       "      <td>275.98</td>\n",
       "      <td>489.74</td>\n",
       "      <td>131.17</td>\n",
       "      <td>212.64</td>\n",
       "      <td>188.94</td>\n",
       "      <td>1295.86</td>\n",
       "      <td>1804.04</td>\n",
       "    </tr>\n",
       "    <tr>\n",
       "      <td>...</td>\n",
       "      <td>...</td>\n",
       "      <td>...</td>\n",
       "      <td>...</td>\n",
       "      <td>...</td>\n",
       "      <td>...</td>\n",
       "      <td>...</td>\n",
       "      <td>...</td>\n",
       "      <td>...</td>\n",
       "      <td>...</td>\n",
       "      <td>...</td>\n",
       "      <td>...</td>\n",
       "      <td>...</td>\n",
       "      <td>...</td>\n",
       "      <td>...</td>\n",
       "      <td>...</td>\n",
       "      <td>...</td>\n",
       "      <td>...</td>\n",
       "      <td>...</td>\n",
       "      <td>...</td>\n",
       "      <td>...</td>\n",
       "      <td>...</td>\n",
       "    </tr>\n",
       "    <tr>\n",
       "      <td>2020-07-27</td>\n",
       "      <td>146.1777</td>\n",
       "      <td>2388.03</td>\n",
       "      <td>632.9947</td>\n",
       "      <td>1715.32</td>\n",
       "      <td>1404.4290</td>\n",
       "      <td>1315.5250</td>\n",
       "      <td>278.65</td>\n",
       "      <td>3069.55</td>\n",
       "      <td>5270.12</td>\n",
       "      <td>1228.98</td>\n",
       "      <td>...</td>\n",
       "      <td>284.71</td>\n",
       "      <td>399.58</td>\n",
       "      <td>1233.39</td>\n",
       "      <td>609.26</td>\n",
       "      <td>1880.04</td>\n",
       "      <td>392.23</td>\n",
       "      <td>189.90</td>\n",
       "      <td>302.52</td>\n",
       "      <td>3239.41</td>\n",
       "      <td>6642.89</td>\n",
       "    </tr>\n",
       "    <tr>\n",
       "      <td>2020-07-28</td>\n",
       "      <td>146.2388</td>\n",
       "      <td>2391.05</td>\n",
       "      <td>633.6971</td>\n",
       "      <td>1715.78</td>\n",
       "      <td>1402.9070</td>\n",
       "      <td>1316.2970</td>\n",
       "      <td>278.72</td>\n",
       "      <td>3071.86</td>\n",
       "      <td>5276.99</td>\n",
       "      <td>1227.56</td>\n",
       "      <td>...</td>\n",
       "      <td>279.73</td>\n",
       "      <td>398.45</td>\n",
       "      <td>1231.63</td>\n",
       "      <td>605.24</td>\n",
       "      <td>1857.09</td>\n",
       "      <td>383.66</td>\n",
       "      <td>188.15</td>\n",
       "      <td>307.22</td>\n",
       "      <td>3218.44</td>\n",
       "      <td>6599.97</td>\n",
       "    </tr>\n",
       "    <tr>\n",
       "      <td>2020-07-29</td>\n",
       "      <td>147.2259</td>\n",
       "      <td>2391.14</td>\n",
       "      <td>633.8867</td>\n",
       "      <td>1716.37</td>\n",
       "      <td>1406.4470</td>\n",
       "      <td>1316.4940</td>\n",
       "      <td>278.79</td>\n",
       "      <td>3074.11</td>\n",
       "      <td>5268.72</td>\n",
       "      <td>1227.67</td>\n",
       "      <td>...</td>\n",
       "      <td>285.70</td>\n",
       "      <td>406.48</td>\n",
       "      <td>1244.95</td>\n",
       "      <td>614.28</td>\n",
       "      <td>1884.94</td>\n",
       "      <td>386.94</td>\n",
       "      <td>189.62</td>\n",
       "      <td>308.56</td>\n",
       "      <td>3258.44</td>\n",
       "      <td>6682.01</td>\n",
       "    </tr>\n",
       "    <tr>\n",
       "      <td>2020-07-30</td>\n",
       "      <td>145.6468</td>\n",
       "      <td>2395.60</td>\n",
       "      <td>635.0175</td>\n",
       "      <td>1716.64</td>\n",
       "      <td>1407.2330</td>\n",
       "      <td>1318.7190</td>\n",
       "      <td>278.84</td>\n",
       "      <td>3077.47</td>\n",
       "      <td>5290.98</td>\n",
       "      <td>1211.76</td>\n",
       "      <td>...</td>\n",
       "      <td>273.99</td>\n",
       "      <td>399.02</td>\n",
       "      <td>1235.39</td>\n",
       "      <td>608.33</td>\n",
       "      <td>1894.95</td>\n",
       "      <td>379.34</td>\n",
       "      <td>190.22</td>\n",
       "      <td>308.50</td>\n",
       "      <td>3246.22</td>\n",
       "      <td>6658.02</td>\n",
       "    </tr>\n",
       "    <tr>\n",
       "      <td>2020-07-31</td>\n",
       "      <td>146.5510</td>\n",
       "      <td>2396.78</td>\n",
       "      <td>635.4342</td>\n",
       "      <td>1717.16</td>\n",
       "      <td>1410.0060</td>\n",
       "      <td>1319.8300</td>\n",
       "      <td>278.88</td>\n",
       "      <td>3080.13</td>\n",
       "      <td>5296.29</td>\n",
       "      <td>1196.78</td>\n",
       "      <td>...</td>\n",
       "      <td>272.09</td>\n",
       "      <td>399.06</td>\n",
       "      <td>1228.58</td>\n",
       "      <td>605.88</td>\n",
       "      <td>1942.39</td>\n",
       "      <td>379.77</td>\n",
       "      <td>191.69</td>\n",
       "      <td>309.12</td>\n",
       "      <td>3271.12</td>\n",
       "      <td>6709.81</td>\n",
       "    </tr>\n",
       "  </tbody>\n",
       "</table>\n",
       "<p>4871 rows × 49 columns</p>\n",
       "</div>"
      ],
      "text/plain": [
       "              BCOMTR  LBUSTRUU  LC07TRUU  LD01TRUU   LG30TRUU     LMBITR  \\\n",
       "Date                                                                       \n",
       "2001-01-02  179.9320    938.84  237.3865    843.80   311.1466   532.6040   \n",
       "2001-01-03  180.0490    933.62  236.1805    842.59   311.6739   533.3132   \n",
       "2001-01-04  182.9210    938.37  237.3955    844.64   313.6097   534.5750   \n",
       "2001-01-05  183.8650    943.45  238.6471    847.90   314.7569   536.4280   \n",
       "2001-01-08  185.2920    944.95  239.0361    849.18   315.0516   538.1271   \n",
       "...              ...       ...       ...       ...        ...        ...   \n",
       "2020-07-27  146.1777   2388.03  632.9947   1715.32  1404.4290  1315.5250   \n",
       "2020-07-28  146.2388   2391.05  633.6971   1715.78  1402.9070  1316.2970   \n",
       "2020-07-29  147.2259   2391.14  633.8867   1716.37  1406.4470  1316.4940   \n",
       "2020-07-30  145.6468   2395.60  635.0175   1716.64  1407.2330  1318.7190   \n",
       "2020-07-31  146.5510   2396.78  635.4342   1717.16  1410.0060  1319.8300   \n",
       "\n",
       "            LT01TRUU  LUICTRUU  LULCTRUU  M1CXBRU  ...  S5ENRS  S5FINL  \\\n",
       "Date                                               ...                   \n",
       "2001-01-02    167.09   1143.67   1169.96   532.60  ...  245.14  386.05   \n",
       "2001-01-03    166.89   1137.28   1160.99   528.24  ...  236.32  405.71   \n",
       "2001-01-04    167.39   1143.70   1170.49   533.03  ...  230.27  400.85   \n",
       "2001-01-05    167.94   1150.60   1182.50   534.27  ...  233.17  390.24   \n",
       "2001-01-08    168.18   1153.51   1186.26   531.49  ...  232.75  388.45   \n",
       "...              ...       ...       ...      ...  ...     ...     ...   \n",
       "2020-07-27    278.65   3069.55   5270.12  1228.98  ...  284.71  399.58   \n",
       "2020-07-28    278.72   3071.86   5276.99  1227.56  ...  279.73  398.45   \n",
       "2020-07-29    278.79   3074.11   5268.72  1227.67  ...  285.70  406.48   \n",
       "2020-07-30    278.84   3077.47   5290.98  1211.76  ...  273.99  399.02   \n",
       "2020-07-31    278.88   3080.13   5296.29  1196.78  ...  272.09  399.06   \n",
       "\n",
       "             S5HLTH  S5INDU   S5INFT  S5MATR  S5TELS  S5UTIL      SPX     SPXT  \n",
       "Date                                                                            \n",
       "2001-01-02   434.87  270.83   444.92  128.66  199.72  208.30  1283.27  1785.86  \n",
       "2001-01-03   418.89  284.70   522.52  130.16  214.58  197.63  1347.56  1875.56  \n",
       "2001-01-04   399.21  284.72   522.95  133.69  221.29  185.10  1333.34  1855.82  \n",
       "2001-01-05   397.80  279.87   488.23  130.63  214.33  186.16  1298.35  1807.13  \n",
       "2001-01-08   397.48  275.98   489.74  131.17  212.64  188.94  1295.86  1804.04  \n",
       "...             ...     ...      ...     ...     ...     ...      ...      ...  \n",
       "2020-07-27  1233.39  609.26  1880.04  392.23  189.90  302.52  3239.41  6642.89  \n",
       "2020-07-28  1231.63  605.24  1857.09  383.66  188.15  307.22  3218.44  6599.97  \n",
       "2020-07-29  1244.95  614.28  1884.94  386.94  189.62  308.56  3258.44  6682.01  \n",
       "2020-07-30  1235.39  608.33  1894.95  379.34  190.22  308.50  3246.22  6658.02  \n",
       "2020-07-31  1228.58  605.88  1942.39  379.77  191.69  309.12  3271.12  6709.81  \n",
       "\n",
       "[4871 rows x 49 columns]"
      ]
     },
     "execution_count": 248,
     "metadata": {},
     "output_type": "execute_result"
    }
   ],
   "source": [
    "df"
   ]
  },
  {
   "cell_type": "code",
   "execution_count": 249,
   "metadata": {
    "scrolled": true
   },
   "outputs": [],
   "source": [
    "#Russell 2000 Total Return\n",
    "#iShares Russell Mid-Cap ETF\n",
    "#Bloomberg Commodity Index Total Return\n",
    "#Bloomberg Barclays US Aggregate Bond Index\n",
    "#MSCI World ex USA total net return\n",
    "#Bloomberg Barclays Global High Yield Total Return Index Value Unhedge"
   ]
  },
  {
   "cell_type": "code",
   "execution_count": 250,
   "metadata": {
    "scrolled": true
   },
   "outputs": [
    {
     "data": {
      "text/html": [
       "<div>\n",
       "<style scoped>\n",
       "    .dataframe tbody tr th:only-of-type {\n",
       "        vertical-align: middle;\n",
       "    }\n",
       "\n",
       "    .dataframe tbody tr th {\n",
       "        vertical-align: top;\n",
       "    }\n",
       "\n",
       "    .dataframe thead th {\n",
       "        text-align: right;\n",
       "    }\n",
       "</style>\n",
       "<table border=\"1\" class=\"dataframe\">\n",
       "  <thead>\n",
       "    <tr style=\"text-align: right;\">\n",
       "      <th></th>\n",
       "      <th>RU20INTR</th>\n",
       "      <th>RUMCINTR</th>\n",
       "      <th>BCOMTR</th>\n",
       "      <th>LBUSTRUU</th>\n",
       "      <th>NDDUWXUS</th>\n",
       "      <th>LG30TRUU</th>\n",
       "    </tr>\n",
       "    <tr>\n",
       "      <th>Date</th>\n",
       "      <th></th>\n",
       "      <th></th>\n",
       "      <th></th>\n",
       "      <th></th>\n",
       "      <th></th>\n",
       "      <th></th>\n",
       "    </tr>\n",
       "  </thead>\n",
       "  <tbody>\n",
       "    <tr>\n",
       "      <td>2001-01-02</td>\n",
       "      <td>1811.882</td>\n",
       "      <td>2992.18</td>\n",
       "      <td>179.9320</td>\n",
       "      <td>938.84</td>\n",
       "      <td>2808.133</td>\n",
       "      <td>311.1466</td>\n",
       "    </tr>\n",
       "    <tr>\n",
       "      <td>2001-01-03</td>\n",
       "      <td>1897.688</td>\n",
       "      <td>3097.50</td>\n",
       "      <td>180.0490</td>\n",
       "      <td>933.62</td>\n",
       "      <td>2787.269</td>\n",
       "      <td>311.6739</td>\n",
       "    </tr>\n",
       "    <tr>\n",
       "      <td>2001-01-04</td>\n",
       "      <td>1869.608</td>\n",
       "      <td>3044.62</td>\n",
       "      <td>182.9210</td>\n",
       "      <td>938.37</td>\n",
       "      <td>2819.614</td>\n",
       "      <td>313.6097</td>\n",
       "    </tr>\n",
       "    <tr>\n",
       "      <td>2001-01-05</td>\n",
       "      <td>1814.574</td>\n",
       "      <td>2968.14</td>\n",
       "      <td>183.8650</td>\n",
       "      <td>943.45</td>\n",
       "      <td>2823.976</td>\n",
       "      <td>314.7569</td>\n",
       "    </tr>\n",
       "    <tr>\n",
       "      <td>2001-01-08</td>\n",
       "      <td>1808.782</td>\n",
       "      <td>2959.01</td>\n",
       "      <td>185.2920</td>\n",
       "      <td>944.95</td>\n",
       "      <td>2809.619</td>\n",
       "      <td>315.0516</td>\n",
       "    </tr>\n",
       "    <tr>\n",
       "      <td>...</td>\n",
       "      <td>...</td>\n",
       "      <td>...</td>\n",
       "      <td>...</td>\n",
       "      <td>...</td>\n",
       "      <td>...</td>\n",
       "      <td>...</td>\n",
       "    </tr>\n",
       "    <tr>\n",
       "      <td>2020-07-27</td>\n",
       "      <td>7566.935</td>\n",
       "      <td>15466.26</td>\n",
       "      <td>146.1777</td>\n",
       "      <td>2388.03</td>\n",
       "      <td>6001.344</td>\n",
       "      <td>1404.4290</td>\n",
       "    </tr>\n",
       "    <tr>\n",
       "      <td>2020-07-28</td>\n",
       "      <td>7491.050</td>\n",
       "      <td>15344.85</td>\n",
       "      <td>146.2388</td>\n",
       "      <td>2391.05</td>\n",
       "      <td>5993.795</td>\n",
       "      <td>1402.9070</td>\n",
       "    </tr>\n",
       "    <tr>\n",
       "      <td>2020-07-29</td>\n",
       "      <td>7648.413</td>\n",
       "      <td>15637.53</td>\n",
       "      <td>147.2259</td>\n",
       "      <td>2391.14</td>\n",
       "      <td>5996.391</td>\n",
       "      <td>1406.4470</td>\n",
       "    </tr>\n",
       "    <tr>\n",
       "      <td>2020-07-30</td>\n",
       "      <td>7620.578</td>\n",
       "      <td>15577.61</td>\n",
       "      <td>145.6468</td>\n",
       "      <td>2395.60</td>\n",
       "      <td>5916.040</td>\n",
       "      <td>1407.2330</td>\n",
       "    </tr>\n",
       "    <tr>\n",
       "      <td>2020-07-31</td>\n",
       "      <td>7546.137</td>\n",
       "      <td>15580.83</td>\n",
       "      <td>146.5510</td>\n",
       "      <td>2396.78</td>\n",
       "      <td>5838.305</td>\n",
       "      <td>1410.0060</td>\n",
       "    </tr>\n",
       "  </tbody>\n",
       "</table>\n",
       "<p>4871 rows × 6 columns</p>\n",
       "</div>"
      ],
      "text/plain": [
       "            RU20INTR  RUMCINTR    BCOMTR  LBUSTRUU  NDDUWXUS   LG30TRUU\n",
       "Date                                                                   \n",
       "2001-01-02  1811.882   2992.18  179.9320    938.84  2808.133   311.1466\n",
       "2001-01-03  1897.688   3097.50  180.0490    933.62  2787.269   311.6739\n",
       "2001-01-04  1869.608   3044.62  182.9210    938.37  2819.614   313.6097\n",
       "2001-01-05  1814.574   2968.14  183.8650    943.45  2823.976   314.7569\n",
       "2001-01-08  1808.782   2959.01  185.2920    944.95  2809.619   315.0516\n",
       "...              ...       ...       ...       ...       ...        ...\n",
       "2020-07-27  7566.935  15466.26  146.1777   2388.03  6001.344  1404.4290\n",
       "2020-07-28  7491.050  15344.85  146.2388   2391.05  5993.795  1402.9070\n",
       "2020-07-29  7648.413  15637.53  147.2259   2391.14  5996.391  1406.4470\n",
       "2020-07-30  7620.578  15577.61  145.6468   2395.60  5916.040  1407.2330\n",
       "2020-07-31  7546.137  15580.83  146.5510   2396.78  5838.305  1410.0060\n",
       "\n",
       "[4871 rows x 6 columns]"
      ]
     },
     "execution_count": 250,
     "metadata": {},
     "output_type": "execute_result"
    }
   ],
   "source": [
    "# RU20INTR, RUMCINTR, BCOMTR, LBUSTRUU, NDDUWXUS,LG30TRUU\n",
    "# use the above indexes to build the portfolio\n",
    "dt = pd.DataFrame(df[['RU20INTR', 'RUMCINTR', 'BCOMTR', 'LBUSTRUU', 'NDDUWXUS','LG30TRUU']])\n",
    "dt"
   ]
  },
  {
   "cell_type": "code",
   "execution_count": 251,
   "metadata": {},
   "outputs": [],
   "source": [
    "#dt[dt.index.strftime('%Y-%m')=='2001-01']\n",
    "dt_ = dt['2001':'2005']"
   ]
  },
  {
   "cell_type": "code",
   "execution_count": 252,
   "metadata": {},
   "outputs": [
    {
     "data": {
      "text/html": [
       "<div>\n",
       "<style scoped>\n",
       "    .dataframe tbody tr th:only-of-type {\n",
       "        vertical-align: middle;\n",
       "    }\n",
       "\n",
       "    .dataframe tbody tr th {\n",
       "        vertical-align: top;\n",
       "    }\n",
       "\n",
       "    .dataframe thead th {\n",
       "        text-align: right;\n",
       "    }\n",
       "</style>\n",
       "<table border=\"1\" class=\"dataframe\">\n",
       "  <thead>\n",
       "    <tr style=\"text-align: right;\">\n",
       "      <th></th>\n",
       "      <th>RU20INTR</th>\n",
       "      <th>RUMCINTR</th>\n",
       "      <th>BCOMTR</th>\n",
       "      <th>LBUSTRUU</th>\n",
       "      <th>NDDUWXUS</th>\n",
       "      <th>LG30TRUU</th>\n",
       "    </tr>\n",
       "    <tr>\n",
       "      <th>Date</th>\n",
       "      <th></th>\n",
       "      <th></th>\n",
       "      <th></th>\n",
       "      <th></th>\n",
       "      <th></th>\n",
       "      <th></th>\n",
       "    </tr>\n",
       "  </thead>\n",
       "  <tbody>\n",
       "    <tr>\n",
       "      <td>2001-01-02</td>\n",
       "      <td>1811.882</td>\n",
       "      <td>2992.18</td>\n",
       "      <td>179.932</td>\n",
       "      <td>938.84</td>\n",
       "      <td>2808.133</td>\n",
       "      <td>311.1466</td>\n",
       "    </tr>\n",
       "    <tr>\n",
       "      <td>2001-01-03</td>\n",
       "      <td>1897.688</td>\n",
       "      <td>3097.50</td>\n",
       "      <td>180.049</td>\n",
       "      <td>933.62</td>\n",
       "      <td>2787.269</td>\n",
       "      <td>311.6739</td>\n",
       "    </tr>\n",
       "    <tr>\n",
       "      <td>2001-01-04</td>\n",
       "      <td>1869.608</td>\n",
       "      <td>3044.62</td>\n",
       "      <td>182.921</td>\n",
       "      <td>938.37</td>\n",
       "      <td>2819.614</td>\n",
       "      <td>313.6097</td>\n",
       "    </tr>\n",
       "    <tr>\n",
       "      <td>2001-01-05</td>\n",
       "      <td>1814.574</td>\n",
       "      <td>2968.14</td>\n",
       "      <td>183.865</td>\n",
       "      <td>943.45</td>\n",
       "      <td>2823.976</td>\n",
       "      <td>314.7569</td>\n",
       "    </tr>\n",
       "    <tr>\n",
       "      <td>2001-01-08</td>\n",
       "      <td>1808.782</td>\n",
       "      <td>2959.01</td>\n",
       "      <td>185.292</td>\n",
       "      <td>944.95</td>\n",
       "      <td>2809.619</td>\n",
       "      <td>315.0516</td>\n",
       "    </tr>\n",
       "    <tr>\n",
       "      <td>...</td>\n",
       "      <td>...</td>\n",
       "      <td>...</td>\n",
       "      <td>...</td>\n",
       "      <td>...</td>\n",
       "      <td>...</td>\n",
       "      <td>...</td>\n",
       "    </tr>\n",
       "    <tr>\n",
       "      <td>2005-12-23</td>\n",
       "      <td>2865.611</td>\n",
       "      <td>4742.85</td>\n",
       "      <td>307.708</td>\n",
       "      <td>1237.79</td>\n",
       "      <td>3604.199</td>\n",
       "      <td>512.3527</td>\n",
       "    </tr>\n",
       "    <tr>\n",
       "      <td>2005-12-27</td>\n",
       "      <td>2824.449</td>\n",
       "      <td>4699.16</td>\n",
       "      <td>302.579</td>\n",
       "      <td>1240.49</td>\n",
       "      <td>3600.779</td>\n",
       "      <td>513.0514</td>\n",
       "    </tr>\n",
       "    <tr>\n",
       "      <td>2005-12-28</td>\n",
       "      <td>2840.864</td>\n",
       "      <td>4716.14</td>\n",
       "      <td>307.357</td>\n",
       "      <td>1238.85</td>\n",
       "      <td>3619.176</td>\n",
       "      <td>513.6672</td>\n",
       "    </tr>\n",
       "    <tr>\n",
       "      <td>2005-12-29</td>\n",
       "      <td>2832.127</td>\n",
       "      <td>4707.69</td>\n",
       "      <td>305.304</td>\n",
       "      <td>1238.91</td>\n",
       "      <td>3621.656</td>\n",
       "      <td>513.4253</td>\n",
       "    </tr>\n",
       "    <tr>\n",
       "      <td>2005-12-30</td>\n",
       "      <td>2812.349</td>\n",
       "      <td>4685.55</td>\n",
       "      <td>307.650</td>\n",
       "      <td>1238.06</td>\n",
       "      <td>3588.556</td>\n",
       "      <td>513.4046</td>\n",
       "    </tr>\n",
       "  </tbody>\n",
       "</table>\n",
       "<p>1233 rows × 6 columns</p>\n",
       "</div>"
      ],
      "text/plain": [
       "            RU20INTR  RUMCINTR   BCOMTR  LBUSTRUU  NDDUWXUS  LG30TRUU\n",
       "Date                                                                 \n",
       "2001-01-02  1811.882   2992.18  179.932    938.84  2808.133  311.1466\n",
       "2001-01-03  1897.688   3097.50  180.049    933.62  2787.269  311.6739\n",
       "2001-01-04  1869.608   3044.62  182.921    938.37  2819.614  313.6097\n",
       "2001-01-05  1814.574   2968.14  183.865    943.45  2823.976  314.7569\n",
       "2001-01-08  1808.782   2959.01  185.292    944.95  2809.619  315.0516\n",
       "...              ...       ...      ...       ...       ...       ...\n",
       "2005-12-23  2865.611   4742.85  307.708   1237.79  3604.199  512.3527\n",
       "2005-12-27  2824.449   4699.16  302.579   1240.49  3600.779  513.0514\n",
       "2005-12-28  2840.864   4716.14  307.357   1238.85  3619.176  513.6672\n",
       "2005-12-29  2832.127   4707.69  305.304   1238.91  3621.656  513.4253\n",
       "2005-12-30  2812.349   4685.55  307.650   1238.06  3588.556  513.4046\n",
       "\n",
       "[1233 rows x 6 columns]"
      ]
     },
     "execution_count": 252,
     "metadata": {},
     "output_type": "execute_result"
    }
   ],
   "source": [
    "dt_"
   ]
  },
  {
   "cell_type": "code",
   "execution_count": 253,
   "metadata": {
    "scrolled": true
   },
   "outputs": [
    {
     "name": "stdout",
     "output_type": "stream",
     "text": [
      "2006\n",
      "0.011863172426314926\n",
      "0.00383174463085999\n",
      "0.000682979620839604\n",
      "0.00922348348210223\n",
      "-0.002902541667096627\n",
      "-0.003407288805122621\n",
      "0.013692196332016243\n",
      "0.015056273770535838\n",
      "0.005914546118289607\n",
      "0.014613135822868599\n",
      "0.017470145513447447\n",
      "0.0018577313901453232\n",
      "2007\n",
      "0.003747308195042924\n",
      "0.014106313962701528\n",
      "0.004886107722364879\n",
      "0.012258627274168384\n",
      "0.0015150347236786775\n",
      "-0.012953897435096019\n",
      "-0.02181971807888021\n",
      "0.008607131230763192\n",
      "0.023977418121728322\n",
      "0.011265992952476503\n",
      "-0.009031392556142196\n",
      "0.002399318482677844\n",
      "2008\n",
      "-0.005098163594788156\n",
      "-0.002255409870278899\n",
      "-0.002770672505227653\n",
      "0.023962263209647037\n",
      "0.002437586119554886\n",
      "-0.016291603038970592\n",
      "-0.012613650729975027\n",
      "0.0005625919447187204\n",
      "-0.06171394289356884\n",
      "-0.12710855526323364\n",
      "-0.001122722693166971\n",
      "0.039197928443075736\n",
      "2009\n",
      "-0.011312626187493633\n",
      "-0.015034081378626198\n",
      "0.019219314087557924\n",
      "0.022035051225899938\n",
      "0.028499125756203322\n",
      "0.014433953105924779\n",
      "0.03139921409152381\n",
      "0.01505418974863514\n",
      "0.03207931772307199\n",
      "0.009580624501221881\n",
      "0.012636926008626015\n",
      "0.0016069806688222546\n",
      "2010\n",
      "0.007853574048361811\n",
      "0.0036382916794173883\n",
      "0.01529297906232413\n",
      "0.015923544529863738\n",
      "-0.020216722459161205\n",
      "0.013622869724861115\n",
      "0.027050383222919208\n",
      "0.005664205908980159\n",
      "0.01982827862212769\n",
      "0.014457322362718102\n",
      "-0.01578824221726298\n",
      "0.007930999081939958\n",
      "2011\n",
      "0.009000643231260728\n",
      "0.00804020265469229\n",
      "0.004641348856700842\n",
      "0.01745480132392536\n",
      "0.004328401962261986\n",
      "-0.007060978596479297\n",
      "0.011540783118494411\n",
      "-0.013208296387291128\n",
      "-0.02456127264566031\n",
      "0.03314404797893624\n",
      "-0.010843720597278022\n",
      "0.013709051057945735\n",
      "2012\n",
      "0.020031526959519097\n",
      "0.013282247018234432\n",
      "-0.0018013322042077615\n",
      "0.00834206446008198\n",
      "-0.010989825062673752\n",
      "0.013905145220155193\n",
      "0.011968396228122239\n",
      "0.010733059111226288\n",
      "0.010247444039199905\n",
      "0.004919348429834262\n",
      "0.006868064529594273\n",
      "0.00821844771981181\n",
      "2013\n",
      "0.002235049727001826\n",
      "0.0007227514709251857\n",
      "0.002638378651925853\n",
      "0.016260050058232216\n",
      "-0.014177171356027158\n",
      "-0.020877685439129597\n",
      "0.011733277858015716\n",
      "-0.003765335907434138\n",
      "0.01613386006704199\n",
      "0.01658740219982254\n",
      "0.0032380078367792303\n",
      "0.004608070901974742\n",
      "2014\n",
      "0.005539623294622566\n",
      "0.015503573431087459\n",
      "0.002213881531016929\n",
      "0.007859347956327983\n",
      "0.008631314704233376\n",
      "0.008452818505845033\n",
      "-0.008437313318265844\n",
      "0.010426487237962766\n",
      "-0.014629602523104216\n",
      "0.006566647406858033\n",
      "0.0009449031817984101\n",
      "-0.007069931276511499\n",
      "2015\n",
      "0.004837657125772611\n",
      "0.006517704660382869\n",
      "0.00022768969364436574\n",
      "0.006463485922163646\n",
      "0.0004432473061525419\n",
      "-0.008014492491238829\n",
      "0.0032894537498845966\n",
      "-0.008579725160777433\n",
      "-0.0075972098590004825\n",
      "0.014853606594782126\n",
      "-0.010356406807736031\n",
      "-0.01417819913803151\n",
      "2016\n",
      "-0.0009462652077010638\n",
      "0.008077575786668956\n",
      "0.027237870027487048\n",
      "0.01765671666400984\n",
      "0.0017074580482721185\n",
      "0.014183643124038912\n",
      "0.012856941934142111\n",
      "0.008926422340247443\n",
      "0.003301820193059117\n",
      "-0.0065885617824199706\n",
      "-0.01668022872865763\n",
      "0.012132313684759203\n",
      "2017\n",
      "0.010238247214626064\n",
      "0.010470114587732584\n",
      "0.002327669620220382\n",
      "0.011368570877247509\n",
      "0.010356755827824346\n",
      "0.0005745483446031288\n",
      "0.010702307188886435\n",
      "0.005462468835999617\n",
      "0.0028461014097143664\n",
      "0.0025984870117495193\n",
      "0.0006217320698058258\n",
      "0.003741791625493143\n",
      "2018\n",
      "0.00198904360404648\n",
      "-0.011279523757520482\n",
      "0.002255559005745438\n",
      "-0.0037875352110689916\n",
      "-0.0007850456982239494\n",
      "-0.0009398892372903778\n",
      "0.01077443625994918\n",
      "0.000542708183117113\n",
      "0.006061418571945512\n",
      "-0.016062884311882665\n",
      "-0.003963291052048891\n",
      "-0.0031159429602251165\n",
      "2019\n",
      "0.030378544385234102\n",
      "0.008876804925792629\n",
      "0.01216743151862862\n",
      "0.005702700487235545\n",
      "0.0004652114436297679\n",
      "0.02196782452561967\n",
      "0.0029260625267028655\n",
      "0.0021886609314177106\n",
      "0.00016441923179282106\n",
      "0.0055683981224355205\n",
      "0.0010275976024831702\n",
      "0.014756667516200793\n"
     ]
    }
   ],
   "source": [
    "exp_ret = []\n",
    "vol = []\n",
    "sr = []\n",
    "act_ret =[]\n",
    "for year in range(2006,2020):\n",
    "    print(year)\n",
    "    for m in range(0,12):\n",
    "        if m < 9:\n",
    "            dt_ = dt_.append(dt[dt.index.strftime('%Y-%m')==str(year)+'-0'+str(m)])\n",
    "            df_ = dt[dt.index.strftime('%Y-%m')==str(year)+'-0'+str(m+1)]\n",
    "        elif m == 9:\n",
    "            dt_ = dt_.append(dt[dt.index.strftime('%Y-%m')==str(year)+'-0'+str(m)])\n",
    "            df_ = dt[dt.index.strftime('%Y-%m')==str(year)+'-'+str(m+1)]\n",
    "        else:\n",
    "            dt_ = dt_.append(dt[dt.index.strftime('%Y-%m')==str(year)+'-'+str(m)])\n",
    "            df_ = dt[dt.index.strftime('%Y-%m')==str(year)+'-'+str(m+1)]\n",
    "        \n",
    "        #print(dt_)\n",
    "        #print(df_)\n",
    "        # Calculate expected returns and sample covariance\n",
    "        mu = expected_returns.mean_historical_return(dt_)\n",
    "        S = risk_models.sample_cov(dt_)\n",
    "        \n",
    "        # Optimise for maximal Sharpe ratio\n",
    "        ef = EfficientFrontier(mu, S)\n",
    "        raw_weights = ef.max_sharpe()\n",
    "        cleaned_weights = ef.clean_weights()\n",
    "        \n",
    "        exp_ret.append(ef.portfolio_performance(verbose=False)[0])\n",
    "        vol.append(ef.portfolio_performance(verbose=False)[1])\n",
    "        sr.append(ef.portfolio_performance(verbose=False)[2])\n",
    "        \n",
    "        wt = list(cleaned_weights.values())\n",
    "        ret_data = df_.pct_change()[1:]\n",
    "        weighted_returns = (wt * ret_data)\n",
    "        port_ret = pd.DataFrame(weighted_returns.sum(axis=1))\n",
    "        port_ret.index = port_ret.index.map(lambda x:pd.to_datetime(str(x)))\n",
    "        rrr = (port_ret.groupby([port_ret.index.year,port_ret.index.month]).sum())[0][0]\n",
    "        print(rrr)\n",
    "        act_ret.append(rrr)"
   ]
  },
  {
   "cell_type": "code",
   "execution_count": 254,
   "metadata": {},
   "outputs": [
    {
     "data": {
      "text/plain": [
       "168"
      ]
     },
     "execution_count": 254,
     "metadata": {},
     "output_type": "execute_result"
    }
   ],
   "source": [
    "len(act_ret)"
   ]
  },
  {
   "cell_type": "code",
   "execution_count": 255,
   "metadata": {},
   "outputs": [
    {
     "name": "stdout",
     "output_type": "stream",
     "text": [
      "1\n",
      "2\n",
      "3\n",
      "4\n",
      "5\n",
      "6\n"
     ]
    }
   ],
   "source": [
    "for m in range(1,7):\n",
    "    print(m)\n",
    "    dt_ = dt_.append(dt[dt.index.strftime('%Y-%m')=='2020-0'+str(m)])\n",
    "    df_ = dt[dt.index.strftime('%Y-%m')=='2020-0'+str(m+1)]\n",
    "\n",
    "    #print(dt_)\n",
    "    #print(df_)\n",
    "    # Calculate expected returns and sample covariance\n",
    "    mu = expected_returns.mean_historical_return(dt_)\n",
    "    S = risk_models.sample_cov(dt_)\n",
    "        \n",
    "    # Optimise for maximal Sharpe ratio\n",
    "    ef = EfficientFrontier(mu, S)\n",
    "    raw_weights = ef.max_sharpe()\n",
    "    cleaned_weights = ef.clean_weights()\n",
    "        \n",
    "    exp_ret.append(ef.portfolio_performance(verbose=False)[0])\n",
    "    vol.append(ef.portfolio_performance(verbose=False)[1])\n",
    "    sr.append(ef.portfolio_performance(verbose=False)[2])\n",
    "        \n",
    "    wt = list(cleaned_weights.values())\n",
    "    ret_data = df_.pct_change()[1:]\n",
    "    weighted_returns = (wt * ret_data)\n",
    "    port_ret = pd.DataFrame(weighted_returns.sum(axis=1))\n",
    "    port_ret.index = port_ret.index.map(lambda x:pd.to_datetime(str(x)))\n",
    "    rrr = (port_ret.groupby([port_ret.index.year,port_ret.index.month]).sum())[0][0]\n",
    "    act_ret.append(rrr)"
   ]
  },
  {
   "cell_type": "code",
   "execution_count": 256,
   "metadata": {},
   "outputs": [
    {
     "data": {
      "text/plain": [
       "174"
      ]
     },
     "execution_count": 256,
     "metadata": {},
     "output_type": "execute_result"
    }
   ],
   "source": [
    "len(act_ret)"
   ]
  },
  {
   "cell_type": "code",
   "execution_count": 257,
   "metadata": {},
   "outputs": [],
   "source": [
    "# convert to annual return\n",
    "act_ret_ann = []\n",
    "for i in range(0,174):\n",
    "    act_ret_ann.append((1+act_ret[i])**12-1)"
   ]
  },
  {
   "cell_type": "code",
   "execution_count": 258,
   "metadata": {},
   "outputs": [
    {
     "data": {
      "text/plain": [
       "174"
      ]
     },
     "execution_count": 258,
     "metadata": {},
     "output_type": "execute_result"
    }
   ],
   "source": [
    "len(act_ret_ann)"
   ]
  },
  {
   "cell_type": "code",
   "execution_count": 259,
   "metadata": {
    "scrolled": true
   },
   "outputs": [],
   "source": [
    "data = {'Expected Return':  exp_ret,\n",
    "        'Actual Return': act_ret_ann,\n",
    "         'Annual  Volatility':vol,\n",
    "        'Sharpe Ratio':sr\n",
    "       }\n",
    "\n",
    "dfff = pd.DataFrame(data, columns = ['Expected Return','Actual Return','Annual  Volatility','Sharpe Ratio'])\n",
    "dfff.to_csv('result.csv',index=False)"
   ]
  },
  {
   "cell_type": "code",
   "execution_count": 260,
   "metadata": {},
   "outputs": [
    {
     "data": {
      "text/plain": [
       "<matplotlib.axes._subplots.AxesSubplot at 0x7fb6aed4f110>"
      ]
     },
     "execution_count": 260,
     "metadata": {},
     "output_type": "execute_result"
    },
    {
     "data": {
      "image/png": "[encoded data removed]",
      "text/plain": [
       "<Figure size 864x576 with 1 Axes>"
      ]
     },
     "metadata": {
      "needs_background": "light"
     },
     "output_type": "display_data"
    }
   ],
   "source": [
    "# error\n",
    "# use some regression models instead of pyportfolio(max SR)\n",
    "dfff[['Actual Return','Expected Return']].plot(figsize=(12,8))"
   ]
  },
  {
   "cell_type": "code",
   "execution_count": 261,
   "metadata": {},
   "outputs": [
    {
     "data": {
      "text/plain": [
       "<matplotlib.axes._subplots.AxesSubplot at 0x7fb6aed460d0>"
      ]
     },
     "execution_count": 261,
     "metadata": {},
     "output_type": "execute_result"
    },
    {
     "data": {
      "image/png": "[encoded data removed]",
      "text/plain": [
       "<Figure size 864x576 with 1 Axes>"
      ]
     },
     "metadata": {
      "needs_background": "light"
     },
     "output_type": "display_data"
    }
   ],
   "source": [
    "dfff['Sharpe Ratio'].plot(figsize=(12,8))"
   ]
  },
  {
   "cell_type": "code",
   "execution_count": 262,
   "metadata": {},
   "outputs": [
    {
     "data": {
      "text/plain": [
       "0      0.152024\n",
       "1      0.046962\n",
       "2      0.008227\n",
       "3      0.116473\n",
       "4     -0.034280\n",
       "         ...   \n",
       "169   -0.617205\n",
       "170    0.556635\n",
       "171    0.369490\n",
       "172    0.150617\n",
       "173    0.380582\n",
       "Name: Actual Return, Length: 174, dtype: float64"
      ]
     },
     "execution_count": 262,
     "metadata": {},
     "output_type": "execute_result"
    }
   ],
   "source": [
    "dfff['Actual Return']"
   ]
  },
  {
   "cell_type": "code",
   "execution_count": 263,
   "metadata": {},
   "outputs": [],
   "source": [
    "from sklearn.metrics import mean_absolute_error"
   ]
  },
  {
   "cell_type": "code",
   "execution_count": 264,
   "metadata": {},
   "outputs": [
    {
     "data": {
      "text/plain": [
       "0.1285095670451953"
      ]
     },
     "execution_count": 264,
     "metadata": {},
     "output_type": "execute_result"
    }
   ],
   "source": [
    "mean_absolute_error(dfff['Actual Return'], dfff['Expected Return'])"
   ]
  },
  {
   "cell_type": "code",
   "execution_count": 265,
   "metadata": {},
   "outputs": [],
   "source": [
    "# Interval: year"
   ]
  },
  {
   "cell_type": "code",
   "execution_count": 279,
   "metadata": {},
   "outputs": [],
   "source": [
    "dt_yr = dt['2001':'2005']"
   ]
  },
  {
   "cell_type": "code",
   "execution_count": 280,
   "metadata": {},
   "outputs": [
    {
     "name": "stdout",
     "output_type": "stream",
     "text": [
      "0.0036663063119428026\n",
      "-0.005262656541957908\n",
      "-0.005218465344813212\n",
      "0.00863857837432916\n",
      "0.009980332560660722\n",
      "0.02108261686783992\n",
      "0.0028813861545970284\n",
      "0.0047979557930664905\n",
      "0.0038059953964732027\n",
      "-0.0018264834265954628\n",
      "0.01099538413842488\n",
      "0.0027310299137921334\n",
      "0.031123567132494718\n",
      "0.007303603025896173\n"
     ]
    }
   ],
   "source": [
    "exp_ret_yr = []\n",
    "vol_yr = []\n",
    "sr_yr = []\n",
    "act_ret_yr =[]\n",
    "for year in range(2006,2020):\n",
    "    dt_yr = dt_yr.append(dt[dt.index.strftime('%Y')==str(year)])\n",
    "    df_yr = dt[dt.index.strftime('%Y')==str(year+1)]\n",
    "    #print(dt_)\n",
    "    #print(df_yr)\n",
    "    \n",
    "    # Calculate expected returns and sample covariance\n",
    "    mu = expected_returns.mean_historical_return(dt_yr)\n",
    "    S = risk_models.sample_cov(dt_yr)\n",
    "    \n",
    "    # Optimise for maximal Sharpe ratio\n",
    "    ef = EfficientFrontier(mu, S)\n",
    "    raw_weights = ef.max_sharpe()\n",
    "    cleaned_weights = ef.clean_weights()\n",
    "    \n",
    "    exp_ret_yr.append(ef.portfolio_performance(verbose=False)[0])\n",
    "    vol_yr.append(ef.portfolio_performance(verbose=False)[1])\n",
    "    sr_yr.append(ef.portfolio_performance(verbose=False)[2])\n",
    "    \n",
    "    wt = list(cleaned_weights.values())\n",
    "    ret_data = df_yr.pct_change()[1:]\n",
    "    weighted_returns = (wt * ret_data)\n",
    "    port_ret = pd.DataFrame(weighted_returns.sum(axis=1))\n",
    "    port_ret.index = port_ret.index.map(lambda x:pd.to_datetime(str(x)))\n",
    "    rrr_yr = (port_ret.groupby([port_ret.index.year,port_ret.index.month]).sum())[0][0]\n",
    "    print(rrr_yr)\n",
    "    act_ret_yr.append(rrr_yr)"
   ]
  },
  {
   "cell_type": "code",
   "execution_count": 281,
   "metadata": {},
   "outputs": [
    {
     "data": {
      "text/plain": [
       "14"
      ]
     },
     "execution_count": 281,
     "metadata": {},
     "output_type": "execute_result"
    }
   ],
   "source": [
    "len(act_ret_yr)"
   ]
  },
  {
   "cell_type": "code",
   "execution_count": 282,
   "metadata": {},
   "outputs": [],
   "source": [
    "# convert to annual return\n",
    "act_ret_ann_yr = []\n",
    "for i in range(0,14):\n",
    "    act_ret_ann_yr.append((1+act_ret_yr[i])**12-1)"
   ]
  },
  {
   "cell_type": "code",
   "execution_count": 283,
   "metadata": {},
   "outputs": [],
   "source": [
    "data_yr = {'Expected Return':  exp_ret_yr,\n",
    "        'Actual Return': act_ret_ann_yr,\n",
    "         'Annual  Volatility':vol_yr,\n",
    "        'Sharpe Ratio':sr_yr\n",
    "       }\n",
    "\n",
    "dfff_yr = pd.DataFrame(data_yr, columns = ['Expected Return','Actual Return','Annual  Volatility','Sharpe Ratio'])\n",
    "dfff_yr.to_csv('result_yr.csv',index=False)"
   ]
  },
  {
   "cell_type": "code",
   "execution_count": 284,
   "metadata": {},
   "outputs": [
    {
     "data": {
      "text/plain": [
       "<matplotlib.axes._subplots.AxesSubplot at 0x7fb6af0af790>"
      ]
     },
     "execution_count": 284,
     "metadata": {},
     "output_type": "execute_result"
    },
    {
     "data": {
      "image/png": "[encoded data removed]",
      "text/plain": [
       "<Figure size 864x576 with 1 Axes>"
      ]
     },
     "metadata": {
      "needs_background": "light"
     },
     "output_type": "display_data"
    }
   ],
   "source": [
    "dfff_yr[['Actual Return','Expected Return']].plot(figsize=(12,8))"
   ]
  },
  {
   "cell_type": "code",
   "execution_count": 285,
   "metadata": {},
   "outputs": [
    {
     "data": {
      "text/plain": [
       "0.0924239244175709"
      ]
     },
     "execution_count": 285,
     "metadata": {},
     "output_type": "execute_result"
    }
   ],
   "source": [
    "mean_absolute_error(dfff_yr['Actual Return'], dfff_yr['Expected Return'])"
   ]
  },
  {
   "cell_type": "code",
   "execution_count": null,
   "metadata": {},
   "outputs": [],
   "source": []
  },
  {
   "cell_type": "code",
   "execution_count": 288,
   "metadata": {},
   "outputs": [
    {
     "data": {
      "text/plain": [
       "RU20INTR    0.000414\n",
       "RUMCINTR    0.000429\n",
       "BCOMTR      0.000011\n",
       "LBUSTRUU    0.000195\n",
       "NDDUWXUS    0.000215\n",
       "LG30TRUU    0.000316\n",
       "dtype: float64"
      ]
     },
     "execution_count": 288,
     "metadata": {},
     "output_type": "execute_result"
    }
   ],
   "source": [
    "# Monte Carlo Simulation\n",
    "# arithmetic mean daily return\n",
    "dt.pct_change(1).mean()"
   ]
  },
  {
   "cell_type": "code",
   "execution_count": 289,
   "metadata": {},
   "outputs": [
    {
     "data": {
      "text/html": [
       "<div>\n",
       "<style scoped>\n",
       "    .dataframe tbody tr th:only-of-type {\n",
       "        vertical-align: middle;\n",
       "    }\n",
       "\n",
       "    .dataframe tbody tr th {\n",
       "        vertical-align: top;\n",
       "    }\n",
       "\n",
       "    .dataframe thead th {\n",
       "        text-align: right;\n",
       "    }\n",
       "</style>\n",
       "<table border=\"1\" class=\"dataframe\">\n",
       "  <thead>\n",
       "    <tr style=\"text-align: right;\">\n",
       "      <th></th>\n",
       "      <th>RU20INTR</th>\n",
       "      <th>RUMCINTR</th>\n",
       "      <th>BCOMTR</th>\n",
       "      <th>LBUSTRUU</th>\n",
       "      <th>NDDUWXUS</th>\n",
       "      <th>LG30TRUU</th>\n",
       "    </tr>\n",
       "    <tr>\n",
       "      <th>Date</th>\n",
       "      <th></th>\n",
       "      <th></th>\n",
       "      <th></th>\n",
       "      <th></th>\n",
       "      <th></th>\n",
       "      <th></th>\n",
       "    </tr>\n",
       "  </thead>\n",
       "  <tbody>\n",
       "    <tr>\n",
       "      <td>2001-01-02</td>\n",
       "      <td>NaN</td>\n",
       "      <td>NaN</td>\n",
       "      <td>NaN</td>\n",
       "      <td>NaN</td>\n",
       "      <td>NaN</td>\n",
       "      <td>NaN</td>\n",
       "    </tr>\n",
       "    <tr>\n",
       "      <td>2001-01-03</td>\n",
       "      <td>0.047357</td>\n",
       "      <td>0.035198</td>\n",
       "      <td>0.000650</td>\n",
       "      <td>-0.005560</td>\n",
       "      <td>-0.007430</td>\n",
       "      <td>0.001695</td>\n",
       "    </tr>\n",
       "    <tr>\n",
       "      <td>2001-01-04</td>\n",
       "      <td>-0.014797</td>\n",
       "      <td>-0.017072</td>\n",
       "      <td>0.015951</td>\n",
       "      <td>0.005088</td>\n",
       "      <td>0.011605</td>\n",
       "      <td>0.006211</td>\n",
       "    </tr>\n",
       "    <tr>\n",
       "      <td>2001-01-05</td>\n",
       "      <td>-0.029436</td>\n",
       "      <td>-0.025120</td>\n",
       "      <td>0.005161</td>\n",
       "      <td>0.005414</td>\n",
       "      <td>0.001547</td>\n",
       "      <td>0.003658</td>\n",
       "    </tr>\n",
       "    <tr>\n",
       "      <td>2001-01-08</td>\n",
       "      <td>-0.003192</td>\n",
       "      <td>-0.003076</td>\n",
       "      <td>0.007761</td>\n",
       "      <td>0.001590</td>\n",
       "      <td>-0.005084</td>\n",
       "      <td>0.000936</td>\n",
       "    </tr>\n",
       "  </tbody>\n",
       "</table>\n",
       "</div>"
      ],
      "text/plain": [
       "            RU20INTR  RUMCINTR    BCOMTR  LBUSTRUU  NDDUWXUS  LG30TRUU\n",
       "Date                                                                  \n",
       "2001-01-02       NaN       NaN       NaN       NaN       NaN       NaN\n",
       "2001-01-03  0.047357  0.035198  0.000650 -0.005560 -0.007430  0.001695\n",
       "2001-01-04 -0.014797 -0.017072  0.015951  0.005088  0.011605  0.006211\n",
       "2001-01-05 -0.029436 -0.025120  0.005161  0.005414  0.001547  0.003658\n",
       "2001-01-08 -0.003192 -0.003076  0.007761  0.001590 -0.005084  0.000936"
      ]
     },
     "execution_count": 289,
     "metadata": {},
     "output_type": "execute_result"
    }
   ],
   "source": [
    "# arithmetic daily return\n",
    "dt.pct_change(1).head()"
   ]
  },
  {
   "cell_type": "code",
   "execution_count": 291,
   "metadata": {},
   "outputs": [
    {
     "data": {
      "text/html": [
       "<div>\n",
       "<style scoped>\n",
       "    .dataframe tbody tr th:only-of-type {\n",
       "        vertical-align: middle;\n",
       "    }\n",
       "\n",
       "    .dataframe tbody tr th {\n",
       "        vertical-align: top;\n",
       "    }\n",
       "\n",
       "    .dataframe thead th {\n",
       "        text-align: right;\n",
       "    }\n",
       "</style>\n",
       "<table border=\"1\" class=\"dataframe\">\n",
       "  <thead>\n",
       "    <tr style=\"text-align: right;\">\n",
       "      <th></th>\n",
       "      <th>RU20INTR</th>\n",
       "      <th>RUMCINTR</th>\n",
       "      <th>BCOMTR</th>\n",
       "      <th>LBUSTRUU</th>\n",
       "      <th>NDDUWXUS</th>\n",
       "      <th>LG30TRUU</th>\n",
       "    </tr>\n",
       "    <tr>\n",
       "      <th>Date</th>\n",
       "      <th></th>\n",
       "      <th></th>\n",
       "      <th></th>\n",
       "      <th></th>\n",
       "      <th></th>\n",
       "      <th></th>\n",
       "    </tr>\n",
       "  </thead>\n",
       "  <tbody>\n",
       "    <tr>\n",
       "      <td>2001-01-02</td>\n",
       "      <td>NaN</td>\n",
       "      <td>NaN</td>\n",
       "      <td>NaN</td>\n",
       "      <td>NaN</td>\n",
       "      <td>NaN</td>\n",
       "      <td>NaN</td>\n",
       "    </tr>\n",
       "    <tr>\n",
       "      <td>2001-01-03</td>\n",
       "      <td>0.046270</td>\n",
       "      <td>0.034593</td>\n",
       "      <td>0.000650</td>\n",
       "      <td>-0.005576</td>\n",
       "      <td>-0.007458</td>\n",
       "      <td>0.001693</td>\n",
       "    </tr>\n",
       "    <tr>\n",
       "      <td>2001-01-04</td>\n",
       "      <td>-0.014908</td>\n",
       "      <td>-0.017219</td>\n",
       "      <td>0.015825</td>\n",
       "      <td>0.005075</td>\n",
       "      <td>0.011538</td>\n",
       "      <td>0.006192</td>\n",
       "    </tr>\n",
       "    <tr>\n",
       "      <td>2001-01-05</td>\n",
       "      <td>-0.029878</td>\n",
       "      <td>-0.025441</td>\n",
       "      <td>0.005147</td>\n",
       "      <td>0.005399</td>\n",
       "      <td>0.001546</td>\n",
       "      <td>0.003651</td>\n",
       "    </tr>\n",
       "    <tr>\n",
       "      <td>2001-01-08</td>\n",
       "      <td>-0.003197</td>\n",
       "      <td>-0.003081</td>\n",
       "      <td>0.007731</td>\n",
       "      <td>0.001589</td>\n",
       "      <td>-0.005097</td>\n",
       "      <td>0.000936</td>\n",
       "    </tr>\n",
       "  </tbody>\n",
       "</table>\n",
       "</div>"
      ],
      "text/plain": [
       "            RU20INTR  RUMCINTR    BCOMTR  LBUSTRUU  NDDUWXUS  LG30TRUU\n",
       "Date                                                                  \n",
       "2001-01-02       NaN       NaN       NaN       NaN       NaN       NaN\n",
       "2001-01-03  0.046270  0.034593  0.000650 -0.005576 -0.007458  0.001693\n",
       "2001-01-04 -0.014908 -0.017219  0.015825  0.005075  0.011538  0.006192\n",
       "2001-01-05 -0.029878 -0.025441  0.005147  0.005399  0.001546  0.003651\n",
       "2001-01-08 -0.003197 -0.003081  0.007731  0.001589 -0.005097  0.000936"
      ]
     },
     "execution_count": 291,
     "metadata": {},
     "output_type": "execute_result"
    }
   ],
   "source": [
    "# log daily return\n",
    "log_return = np.log(dt/dt.shift(1))\n",
    "log_return.head(5)"
   ]
  },
  {
   "cell_type": "code",
   "execution_count": 292,
   "metadata": {},
   "outputs": [
    {
     "name": "stdout",
     "output_type": "stream",
     "text": [
      "Index(['RU20INTR', 'RUMCINTR', 'BCOMTR', 'LBUSTRUU', 'NDDUWXUS', 'LG30TRUU'], dtype='object')\n",
      "Random Weights:\n",
      "[0.5379735  0.20427554 0.51191645 0.26509853 0.98515234 0.69860372]\n"
     ]
    }
   ],
   "source": [
    "print(dt.columns)\n",
    "\n",
    "weights_MC = np.array(np.random.random(6))\n",
    "print('Random Weights:')\n",
    "print(weights_MC)"
   ]
  },
  {
   "cell_type": "code",
   "execution_count": 293,
   "metadata": {},
   "outputs": [
    {
     "name": "stdout",
     "output_type": "stream",
     "text": [
      "Rebalance\n",
      "[0.1679582  0.06377592 0.15982305 0.08276518 0.30756983 0.21810782]\n"
     ]
    }
   ],
   "source": [
    "print('Rebalance')\n",
    "weights_MC = weights_MC/np.sum(weights_MC)\n",
    "print(weights_MC)"
   ]
  },
  {
   "cell_type": "code",
   "execution_count": 294,
   "metadata": {},
   "outputs": [
    {
     "name": "stdout",
     "output_type": "stream",
     "text": [
      "Expected Portfolio Return\n",
      "0.04886439261425515\n",
      "Expected Volatility\n",
      "0.11659168322497793\n",
      "Sharpe Ratio\n",
      "0.41910701743592915\n"
     ]
    }
   ],
   "source": [
    "# expected return\n",
    "print('Expected Portfolio Return')\n",
    "exp_ret_MC = np.sum((log_return.mean()*weights_MC)*252)\n",
    "print(exp_ret_MC)\n",
    "\n",
    "# expected volatility\n",
    "print('Expected Volatility')\n",
    "exp_vol_MC = np.sqrt(np.dot(weights_MC.T,np.dot(log_return.cov()*252, weights_MC)))\n",
    "print(exp_vol_MC)\n",
    "\n",
    "# Sharpe Ratio\n",
    "print('Sharpe Ratio')\n",
    "SR_MC = exp_ret_MC/exp_vol_MC\n",
    "print(SR_MC)"
   ]
  },
  {
   "cell_type": "code",
   "execution_count": null,
   "metadata": {},
   "outputs": [],
   "source": []
  },
  {
   "cell_type": "code",
   "execution_count": null,
   "metadata": {},
   "outputs": [],
   "source": []
  },
  {
   "cell_type": "code",
   "execution_count": null,
   "metadata": {},
   "outputs": [],
   "source": []
  },
  {
   "cell_type": "code",
   "execution_count": null,
   "metadata": {},
   "outputs": [],
   "source": []
  },
  {
   "cell_type": "code",
   "execution_count": 198,
   "metadata": {},
   "outputs": [],
   "source": [
    "# ARMA choose weights\n",
    "dt_ = dt['2001':'2005']"
   ]
  },
  {
   "cell_type": "code",
   "execution_count": 287,
   "metadata": {},
   "outputs": [
    {
     "data": {
      "text/plain": [
       "<matplotlib.axes._subplots.AxesSubplot at 0x7fb6aefd7f50>"
      ]
     },
     "execution_count": 287,
     "metadata": {},
     "output_type": "execute_result"
    },
    {
     "data": {
      "image/png": "[encoded data removed]",
      "text/plain": [
       "<Figure size 864x576 with 1 Axes>"
      ]
     },
     "metadata": {
      "needs_background": "light"
     },
     "output_type": "display_data"
    }
   ],
   "source": [
    "dt_.plot(figsize=(12,8))"
   ]
  },
  {
   "cell_type": "code",
   "execution_count": null,
   "metadata": {},
   "outputs": [],
   "source": []
  },
  {
   "cell_type": "code",
   "execution_count": 207,
   "metadata": {},
   "outputs": [
    {
     "name": "stderr",
     "output_type": "stream",
     "text": [
      "/Users/mushroomxg/opt/anaconda3/lib/python3.7/site-packages/ipykernel_launcher.py:3: FutureWarning: \n",
      ".ix is deprecated. Please use\n",
      ".loc for label based indexing or\n",
      ".iloc for positional indexing\n",
      "\n",
      "See the documentation here:\n",
      "http://pandas.pydata.org/pandas-docs/stable/user_guide/indexing.html#ix-indexer-is-deprecated\n",
      "  This is separate from the ipykernel package so we can avoid doing imports until\n",
      "/Users/mushroomxg/opt/anaconda3/lib/python3.7/site-packages/ipykernel_launcher.py:5: FutureWarning: \n",
      ".ix is deprecated. Please use\n",
      ".loc for label based indexing or\n",
      ".iloc for positional indexing\n",
      "\n",
      "See the documentation here:\n",
      "http://pandas.pydata.org/pandas-docs/stable/user_guide/indexing.html#ix-indexer-is-deprecated\n",
      "  \"\"\"\n"
     ]
    },
    {
     "data": {
      "image/png": "[encoded data removed]",
      "text/plain": [
       "<Figure size 864x576 with 2 Axes>"
      ]
     },
     "metadata": {
      "needs_background": "light"
     },
     "output_type": "display_data"
    }
   ],
   "source": [
    "fig = plt.figure(figsize=(12,8))\n",
    "ax1 = fig.add_subplot(211)\n",
    "fig = sm.graphics.tsa.plot_acf(dt_.ix[:,0].values.squeeze(), lags=40, ax=ax1)\n",
    "ax2 = fig.add_subplot(212)\n",
    "fig = sm.graphics.tsa.plot_pacf(dt_.ix[:,0], lags=40, ax=ax2)"
   ]
  },
  {
   "cell_type": "code",
   "execution_count": 209,
   "metadata": {},
   "outputs": [
    {
     "name": "stderr",
     "output_type": "stream",
     "text": [
      "/Users/mushroomxg/opt/anaconda3/lib/python3.7/site-packages/ipykernel_launcher.py:3: FutureWarning: \n",
      ".ix is deprecated. Please use\n",
      ".loc for label based indexing or\n",
      ".iloc for positional indexing\n",
      "\n",
      "See the documentation here:\n",
      "http://pandas.pydata.org/pandas-docs/stable/user_guide/indexing.html#ix-indexer-is-deprecated\n",
      "  This is separate from the ipykernel package so we can avoid doing imports until\n",
      "/Users/mushroomxg/opt/anaconda3/lib/python3.7/site-packages/ipykernel_launcher.py:5: FutureWarning: \n",
      ".ix is deprecated. Please use\n",
      ".loc for label based indexing or\n",
      ".iloc for positional indexing\n",
      "\n",
      "See the documentation here:\n",
      "http://pandas.pydata.org/pandas-docs/stable/user_guide/indexing.html#ix-indexer-is-deprecated\n",
      "  \"\"\"\n"
     ]
    },
    {
     "data": {
      "image/png": "[encoded data removed]",
      "text/plain": [
       "<Figure size 864x576 with 2 Axes>"
      ]
     },
     "metadata": {
      "needs_background": "light"
     },
     "output_type": "display_data"
    }
   ],
   "source": [
    "fig = plt.figure(figsize=(12,8))\n",
    "ax1 = fig.add_subplot(211)\n",
    "fig = sm.graphics.tsa.plot_acf(dt_.ix[:,1].values.squeeze(), lags=40, ax=ax1)\n",
    "ax2 = fig.add_subplot(212)\n",
    "fig = sm.graphics.tsa.plot_pacf(dt_.ix[:,1], lags=40, ax=ax2)"
   ]
  },
  {
   "cell_type": "code",
   "execution_count": 215,
   "metadata": {},
   "outputs": [
    {
     "name": "stderr",
     "output_type": "stream",
     "text": [
      "/Users/mushroomxg/opt/anaconda3/lib/python3.7/site-packages/ipykernel_launcher.py:3: FutureWarning: \n",
      ".ix is deprecated. Please use\n",
      ".loc for label based indexing or\n",
      ".iloc for positional indexing\n",
      "\n",
      "See the documentation here:\n",
      "http://pandas.pydata.org/pandas-docs/stable/user_guide/indexing.html#ix-indexer-is-deprecated\n",
      "  This is separate from the ipykernel package so we can avoid doing imports until\n",
      "/Users/mushroomxg/opt/anaconda3/lib/python3.7/site-packages/ipykernel_launcher.py:5: FutureWarning: \n",
      ".ix is deprecated. Please use\n",
      ".loc for label based indexing or\n",
      ".iloc for positional indexing\n",
      "\n",
      "See the documentation here:\n",
      "http://pandas.pydata.org/pandas-docs/stable/user_guide/indexing.html#ix-indexer-is-deprecated\n",
      "  \"\"\"\n"
     ]
    },
    {
     "data": {
      "image/png": "[encoded data removed]",
      "text/plain": [
       "<Figure size 864x576 with 2 Axes>"
      ]
     },
     "metadata": {
      "needs_background": "light"
     },
     "output_type": "display_data"
    }
   ],
   "source": [
    "fig = plt.figure(figsize=(12,8))\n",
    "ax1 = fig.add_subplot(211)\n",
    "fig = sm.graphics.tsa.plot_acf(dt_.ix[:,2].values.squeeze(), lags=500, ax=ax1)\n",
    "ax2 = fig.add_subplot(212)\n",
    "fig = sm.graphics.tsa.plot_pacf(dt_.ix[:,2], lags=500, ax=ax2)"
   ]
  }
 ],
 "metadata": {
  "kernelspec": {
   "display_name": "Python 3",
   "language": "python",
   "name": "python3"
  },
  "language_info": {
   "codemirror_mode": {
    "name": "ipython",
    "version": 3
   },
   "file_extension": ".py",
   "mimetype": "text/x-python",
   "name": "python",
   "nbconvert_exporter": "python",
   "pygments_lexer": "ipython3",
   "version": "3.7.4"
  }
 },
 "nbformat": 4,
 "nbformat_minor": 4
}
